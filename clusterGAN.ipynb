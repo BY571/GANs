{
 "cells": [
  {
   "cell_type": "markdown",
   "metadata": {},
   "source": [
    "## Sources:\n",
    "- https://towardsdatascience.com/understanding-generative-adversarial-networks-4dafc963f2ef\n",
    "- https://github.com/sudiptodip15/ClusterGAN\n",
    "- Paper: ClusterGAN : Latent Space Clustering in Generative Adversarial Networks"
   ]
  },
  {
   "cell_type": "markdown",
   "metadata": {},
   "source": [
    "# Implementing a ClusterGAN in Pytorch on the MNIST Dataset\n",
    "\n",
    "\n",
    "- Goal is to implement a simple clusterGAN to understand the fundamental concepts behind clusterGAN with solid understanding for further application on several other cluster problems (as for synthetic data in general and not for images). Main source is this paper on clusterGANs https://arxiv.org/abs/1809.03627"
   ]
  },
  {
   "cell_type": "markdown",
   "metadata": {},
   "source": [
    "## GAN Concept in a nutshell:\n",
    "In an Generative Adversarial Network we have two neural networks - a discriminator (D) and a generator (G). Based on the MNIST Dataset, which is a dataset of handwritten numbers from 0-9, the discriminator learns to distinguish if the given image of the number is real (out of the MNIST Dataset) or fake (created by the generator). That means that it learns on images out of the dataset and images created by the generator. According to that the generator (starting from random images) learns to draw better and better handwritten numbers so that in the end the discriminator cant differentiate if the given nr is real or fake."
   ]
  },
  {
   "cell_type": "code",
   "execution_count": 1,
   "metadata": {},
   "outputs": [],
   "source": [
    "import torch\n",
    "import torch.nn as nn\n",
    "import torch.nn.functional as F\n",
    "import torch.optim as optim\n",
    "import torchvision\n",
    "from torchvision import transforms\n",
    "from torch.utils import data\n",
    "from torch.autograd import Variable\n",
    "import numpy as np\n",
    "import matplotlib.pyplot as plt\n",
    "from sklearn.model_selection import train_test_split \n",
    "from sklearn import datasets\n",
    "from itertools import chain as ichain"
   ]
  },
  {
   "cell_type": "code",
   "execution_count": 2,
   "metadata": {},
   "outputs": [],
   "source": [
    "from tensorboardX import SummaryWriter"
   ]
  },
  {
   "cell_type": "code",
   "execution_count": null,
   "metadata": {},
   "outputs": [],
   "source": []
  },
  {
   "cell_type": "markdown",
   "metadata": {},
   "source": [
    "## Loading MNIST Dataset"
   ]
  },
  {
   "cell_type": "code",
   "execution_count": 2,
   "metadata": {},
   "outputs": [],
   "source": [
    "from torchvision.datasets import MNIST\n",
    "#https://github.com/Manuel4131/GoMNIST/tree/master/data\n",
    "\n",
    "data_train = MNIST('~/pytorch_data', train=True, download=True,transform = transforms.Compose(\n",
    "    [transforms.ToTensor()]))"
   ]
  },
  {
   "cell_type": "code",
   "execution_count": 3,
   "metadata": {},
   "outputs": [],
   "source": [
    "BATCH_SIZE = 32"
   ]
  },
  {
   "cell_type": "code",
   "execution_count": 7,
   "metadata": {
    "scrolled": true
   },
   "outputs": [
    {
     "name": "stdout",
     "output_type": "stream",
     "text": [
      "60000\n",
      "60000\n"
     ]
    }
   ],
   "source": [
    "X_train = data_train.train_data\n",
    "#print(X_train[0])\n",
    "#print(X_train[0].shape)\n",
    "X_train = preprocess_img(X_train)\n",
    "y_train = data_train.targets\n",
    "print(len(X_train))\n",
    "print(len(y_train))"
   ]
  },
  {
   "cell_type": "markdown",
   "metadata": {},
   "source": [
    "# Testing if Deprocessing works "
   ]
  },
  {
   "cell_type": "code",
   "execution_count": 8,
   "metadata": {
    "scrolled": true
   },
   "outputs": [
    {
     "data": {
      "text/plain": [
       "<matplotlib.image.AxesImage at 0x156b6940>"
      ]
     },
     "execution_count": 8,
     "metadata": {},
     "output_type": "execute_result"
    },
    {
     "data": {
      "image/png": "[encoded data removed]",
      "text/plain": [
       "<Figure size 432x288 with 1 Axes>"
      ]
     },
     "metadata": {
      "needs_background": "light"
     },
     "output_type": "display_data"
    }
   ],
   "source": [
    "test_img = deprocess(X_train[0])\n",
    "plt.imshow(test_img, cmap = \"gray\")"
   ]
  },
  {
   "cell_type": "markdown",
   "metadata": {},
   "source": [
    "# Create final DataLoader from preprocessed dataset"
   ]
  },
  {
   "cell_type": "code",
   "execution_count": 9,
   "metadata": {},
   "outputs": [],
   "source": [
    "import torch.utils.data as data_utils\n",
    "dataset = data_utils.TensorDataset(X_train, y_train)"
   ]
  },
  {
   "cell_type": "code",
   "execution_count": 10,
   "metadata": {},
   "outputs": [],
   "source": [
    "data_loader = torch.utils.data.DataLoader(dataset,\n",
    "                                          batch_size=32,\n",
    "                                          shuffle=True)"
   ]
  },
  {
   "cell_type": "markdown",
   "metadata": {},
   "source": [
    "# Create Helper-Functions\n",
    "- generate random inputs for the generator \n",
    "- to preprocess /deprocess\n",
    "- create real / fake labels"
   ]
  },
  {
   "cell_type": "code",
   "execution_count": 11,
   "metadata": {},
   "outputs": [],
   "source": [
    "def generator_input_sampler(latent_space, batch_size = BATCH_SIZE, nc = 10):\n",
    "    \"\"\" \n",
    "    Generates latent space values clipped to (-1,1), zc and indexes of zc depending on the number of classes >nc<\n",
    "    \\n\n",
    "    Input: \\n\n",
    "    latentspace size, batchsize, nc default = 10\n",
    "    \\n\n",
    "    Output:\\n\n",
    "    latentspace vector, zc, zc_idx\n",
    "    \"\"\"\n",
    "    \n",
    "    batch = torch.randn((batch_size, latent_space))\n",
    "    clipped_batch = torch.FloatTensor(np.clip(batch.numpy(), -1, 1))\n",
    "    zc_idx = torch.empty(batch_size, dtype=torch.long)\n",
    "    zc_idx = zc_idx.random_(nc)\n",
    "    zc = torch.Tensor(batch_size, nc).fill_(0)\n",
    "    zc = zc.scatter_(1, zc_idx.unsqueeze(1), 1.)\n",
    "    return clipped_batch, zc, zc_idx"
   ]
  },
  {
   "cell_type": "code",
   "execution_count": 6,
   "metadata": {},
   "outputs": [],
   "source": [
    "from torch.autograd import grad as torch_grad\n",
    "def preprocess_img(img):\n",
    "    \"\"\"\n",
    "    Preprocess the images that the are normalized and clipped to a range between -1 and 1\n",
    "    Input: Batch of images\n",
    "    Output: Batch of normalized and clipped images\n",
    "    \"\"\"\n",
    "    img = (img.float() / 255- 0.5) * 2\n",
    "    img = torch.FloatTensor(np.clip(img.numpy(), -1, 1))      \n",
    "    return img\n",
    "\n",
    "def deprocess(x):\n",
    "    \"\"\"\n",
    "    Deprocess the normalized vector images back to image format in range 0,255 \n",
    "    Input: norm image vector with size (1,784)\n",
    "    Output: image Tensor size (28,28)\n",
    "    \"\"\"\n",
    "    x = (x.detach() / 2 + 1) * 255\n",
    "    x = torch.clamp(x, min = 0, max = 255)\n",
    "    return x.view(28,28)\n",
    "\n",
    "def make_labels(size):\n",
    "    # returns real and fake lables\n",
    "    return torch.ones(size,1), torch.zeros(size,1)\n",
    "\n",
    "class View(nn.Module):\n",
    "    def __init__(self, shape):\n",
    "        super(View, self).__init__()\n",
    "        self.shape = shape\n",
    "\n",
    "    def forward(self, x):\n",
    "        return x.view(x.size(0),*self.shape)\n",
    "\n",
    "def calc_gradient_penalty(netD, real_data, generated_data):\n",
    "    # GP strength\n",
    "    LAMBDA = 10\n",
    "\n",
    "    b_size = real_data.size()[0]\n",
    "\n",
    "    # Calculate interpolation\n",
    "    alpha = torch.rand(b_size,1, 1, 1)\n",
    "    real_data = real_data.unsqueeze(1)\n",
    "    alpha = alpha.expand_as(real_data)\n",
    "    \n",
    "    interpolated = alpha * real_data.data + (1 - alpha) * generated_data.data\n",
    "    interpolated = Variable(interpolated, requires_grad=True)\n",
    "\n",
    "    # Calculate probability of interpolated examples\n",
    "    prob_interpolated = netD(interpolated.squeeze(1))\n",
    "\n",
    "    # Calculate gradients of probabilities with respect to examples\n",
    "    gradients = torch_grad(outputs=prob_interpolated, inputs=interpolated,\n",
    "                           grad_outputs=torch.ones(prob_interpolated.size()),\n",
    "                           create_graph=True, retain_graph=True)[0]\n",
    "\n",
    "    # Gradients have shape (batch_size, num_channels, img_width, img_height),\n",
    "    # so flatten to easily take norm per example in batch\n",
    "    gradients = gradients.view(b_size, -1)\n",
    "\n",
    "    # Derivatives of the gradient close to 0 can cause problems because of\n",
    "    # the square root, so manually calculate norm and add epsilon\n",
    "    gradients_norm = torch.sqrt(torch.sum(gradients ** 2, dim=1) + 1e-12)\n",
    "\n",
    "    # Return gradient penalty\n",
    "    return LAMBDA * ((gradients_norm - 1) ** 2).mean()"
   ]
  },
  {
   "cell_type": "markdown",
   "metadata": {},
   "source": [
    "# Creating Generator, Encoder and Discriminator"
   ]
  },
  {
   "cell_type": "markdown",
   "metadata": {},
   "source": [
    "![image.png](imgs\\hyperparams.PNG)\n",
    "![image.png](imgs\\architecture.PNG)"
   ]
  },
  {
   "cell_type": "code",
   "execution_count": 12,
   "metadata": {},
   "outputs": [],
   "source": [
    "class Generator(nn.Module):\n",
    "    def __init__(self, latent_dim, nr_classes,img_shape = (1,28,28)):\n",
    "        super(Generator, self).__init__()\n",
    "        self.img_shape = img_shape\n",
    "        self.ishape = (128,7,7)\n",
    "        self.dim = int(np.prod(self.ishape))\n",
    "        self.network = nn.Sequential(nn.Linear(latent_dim + nr_classes, 1024),\n",
    "                                    nn.ReLU(),\n",
    "                                    nn.BatchNorm1d(1024),\n",
    "                                    nn.Linear(1024, self.dim),\n",
    "                                    nn.ReLU(),\n",
    "                                    nn.BatchNorm1d(self.dim),\n",
    "                                    View(self.ishape), #Reshape\n",
    "                                    nn.ConvTranspose2d(in_channels = 128, out_channels = 64, kernel_size = 4, stride=2, padding=1),\n",
    "                                    nn.ReLU(),\n",
    "                                    nn.BatchNorm2d(64),\n",
    "                                    nn.ConvTranspose2d(in_channels = 64, out_channels = 1, kernel_size = 4, stride=2, padding=1),\n",
    "                                    nn.Sigmoid())\n",
    "                                    \n",
    "    def forward(self, zn, zc):\n",
    "        x = torch.cat((zn,zc), dim = 1)\n",
    "        x = self.network(x)\n",
    "        # reshape\n",
    "        x = x.view(x.size(0), *self.img_shape)\n",
    "        return x\n",
    "\n",
    "    \n",
    "class Encoder(nn.Module):\n",
    "    def __init__(self, latent_dim, nr_classes):\n",
    "        super(Encoder, self).__init__()\n",
    "        # bekommt 28x28 input image\n",
    "        self.latent_dim = latent_dim\n",
    "        self.logits_out = int(np.prod((128,5,5)))\n",
    "        self.logits_conv_shape = (self.logits_out,)\n",
    "        self.encoder = nn.Sequential(nn.Conv2d(in_channels = 1, out_channels = 64, kernel_size = 4, stride = 2 ),\n",
    "                                    nn.LeakyReLU(0.2),\n",
    "                                    nn.Conv2d(in_channels = 64, out_channels = 128, kernel_size= 4, stride = 2),\n",
    "                                    nn.LeakyReLU(0.2),\n",
    "                                    View(self.logits_conv_shape),\n",
    "                                    nn.Linear(self.logits_out,1024),\n",
    "                                    nn.LeakyReLU(0.2),\n",
    "                                    nn.Linear(1024,self.latent_dim + nr_classes)\n",
    "                                    )\n",
    "        \n",
    "    def forward(self, x):\n",
    "        z_img = self.encoder(x)\n",
    "        z = z_img.view(z_img.shape[0],-1)\n",
    "        # Seperating continous and one-hot vectors\n",
    "        zn = z[:, :self.latent_dim]\n",
    "        zc_logits = z[:, self.latent_dim:]\n",
    "        # Softmax on last 10 (nr classes) to obtain zc\n",
    "        zc = torch.softmax(zc_logits, dim = 1)\n",
    "        return zn, zc, zc_logits\n",
    "        \n",
    "        \n",
    "class Discriminator(nn.Module):\n",
    "    def __init__(self):\n",
    "        super(Discriminator, self).__init__()\n",
    "        self.logits_out = int(np.prod((128,5,5)))\n",
    "        self.logits_conv_shape = (self.logits_out,)\n",
    "        self.network = nn.Sequential(nn.Conv2d(in_channels = 1, out_channels = 64, kernel_size = 4, stride = 2 ),\n",
    "                                    nn.LeakyReLU(0.2),\n",
    "                                    nn.Conv2d(in_channels = 64, out_channels = 128, kernel_size = 4, stride = 2),\n",
    "                                    nn.LeakyReLU(0.2),\n",
    "                                    View(self.logits_conv_shape),                                    \n",
    "                                    nn.Linear(self.logits_out,1024),\n",
    "                                    nn.LeakyReLU(0.2),\n",
    "                                    nn.Linear(1024,1)\n",
    "                                    )\n",
    "    def forward(self, x):\n",
    "        x = x.unsqueeze(1)\n",
    "        return self.network(x)"
   ]
  },
  {
   "cell_type": "code",
   "execution_count": 13,
   "metadata": {},
   "outputs": [],
   "source": [
    "latent_space_zn = 30 # latentspace\n",
    "nr_c = 10 # nr of classes\n",
    "#img_digits_shape = 784 \n",
    "generator = Generator(latent_space_zn, nr_c)\n",
    "encoder = Encoder(latent_space_zn, nr_c)\n",
    "discriminator = Discriminator()\n",
    "\n",
    "beta1 = 0.5\n",
    "beta2 = 0.9\n",
    "lr = 1e-4\n",
    "\n",
    "generator_param_chain = ichain(generator.parameters(),\n",
    "                      encoder.parameters())\n",
    "optimizer_G = optim.Adam(generator_param_chain,lr = lr, betas = (beta1, beta2))\n",
    "optimizer_D = optim.Adam(discriminator.parameters(), lr = lr, betas = (beta1, beta2))\n"
   ]
  },
  {
   "cell_type": "code",
   "execution_count": 14,
   "metadata": {},
   "outputs": [
    {
     "name": "stdout",
     "output_type": "stream",
     "text": [
      "Generator(\n",
      "  (network): Sequential(\n",
      "    (0): Linear(in_features=40, out_features=1024, bias=True)\n",
      "    (1): ReLU()\n",
      "    (2): BatchNorm1d(1024, eps=1e-05, momentum=0.1, affine=True, track_running_stats=True)\n",
      "    (3): Linear(in_features=1024, out_features=6272, bias=True)\n",
      "    (4): ReLU()\n",
      "    (5): BatchNorm1d(6272, eps=1e-05, momentum=0.1, affine=True, track_running_stats=True)\n",
      "    (6): View()\n",
      "    (7): ConvTranspose2d(128, 64, kernel_size=(4, 4), stride=(2, 2), padding=(1, 1))\n",
      "    (8): ReLU()\n",
      "    (9): BatchNorm2d(64, eps=1e-05, momentum=0.1, affine=True, track_running_stats=True)\n",
      "    (10): ConvTranspose2d(64, 1, kernel_size=(4, 4), stride=(2, 2), padding=(1, 1))\n",
      "    (11): Sigmoid()\n",
      "  )\n",
      ")\n",
      "\n",
      " Encoder(\n",
      "  (encoder): Sequential(\n",
      "    (0): Conv2d(1, 64, kernel_size=(4, 4), stride=(2, 2))\n",
      "    (1): LeakyReLU(negative_slope=0.2)\n",
      "    (2): Conv2d(64, 128, kernel_size=(4, 4), stride=(2, 2))\n",
      "    (3): LeakyReLU(negative_slope=0.2)\n",
      "    (4): View()\n",
      "    (5): Linear(in_features=3200, out_features=1024, bias=True)\n",
      "    (6): LeakyReLU(negative_slope=0.2)\n",
      "    (7): Linear(in_features=1024, out_features=40, bias=True)\n",
      "  )\n",
      ")\n",
      "\n",
      " Discriminator(\n",
      "  (network): Sequential(\n",
      "    (0): Conv2d(1, 64, kernel_size=(4, 4), stride=(2, 2))\n",
      "    (1): LeakyReLU(negative_slope=0.2)\n",
      "    (2): Conv2d(64, 128, kernel_size=(4, 4), stride=(2, 2))\n",
      "    (3): LeakyReLU(negative_slope=0.2)\n",
      "    (4): View()\n",
      "    (5): Linear(in_features=3200, out_features=1024, bias=True)\n",
      "    (6): LeakyReLU(negative_slope=0.2)\n",
      "    (7): Linear(in_features=1024, out_features=1, bias=True)\n",
      "  )\n",
      ")\n"
     ]
    }
   ],
   "source": [
    "print(generator)\n",
    "print(\"\\n\", encoder)\n",
    "print(\"\\n\", discriminator)\n"
   ]
  },
  {
   "cell_type": "markdown",
   "metadata": {},
   "source": [
    "# Training Discriminator, Generator and Encoder"
   ]
  },
  {
   "cell_type": "code",
   "execution_count": 15,
   "metadata": {},
   "outputs": [],
   "source": [
    "cross_entropy_loss = torch.nn.CrossEntropyLoss()\n",
    "mse_loss = torch.nn.MSELoss()"
   ]
  },
  {
   "cell_type": "code",
   "execution_count": 16,
   "metadata": {},
   "outputs": [],
   "source": [
    "import time"
   ]
  },
  {
   "cell_type": "code",
   "execution_count": 17,
   "metadata": {
    "scrolled": false
   },
   "outputs": [
    {
     "name": "stderr",
     "output_type": "stream",
     "text": [
      "C:\\Users\\DESEDIT\\AppData\\Local\\Continuum\\anaconda3\\lib\\site-packages\\ipykernel_launcher.py:47: DeprecationWarning: This function is deprecated. Please call randint(0, 31 + 1) instead\n"
     ]
    },
    {
     "name": "stdout",
     "output_type": "stream",
     "text": [
      "Episode: 0 -- Discriminator loss: -42.11062558110555 -- Generator loss: -2.946246169694265\n",
      "Episode: 1 -- Discriminator loss: -39.301991837565105 -- Generator loss: 0.4841817804336548\n",
      "Episode: 2 -- Discriminator loss: -40.08413655192057 -- Generator loss: 3.29691883910497\n",
      "Training for 58.70621667305628 min\n"
     ]
    },
    {
     "data": {
      "image/png": "[encoded data removed]",
      "text/plain": [
       "<Figure size 432x288 with 1 Axes>"
      ]
     },
     "metadata": {
      "needs_background": "light"
     },
     "output_type": "display_data"
    }
   ],
   "source": [
    "start_time = time.time()\n",
    "#writer = SummaryWriter()\n",
    "step = 0\n",
    "epochs = 3\n",
    "overall_loss_d = []\n",
    "overall_loss_g = []\n",
    "overall_loss_e = []\n",
    "saved_generator_imgs = [] #saves one image each episode\n",
    "generator_predictions = [] # saves the predictions of the discriminator to the fake images\n",
    "for epoch in range(epochs):\n",
    "    episodic_loss_d = []\n",
    "    episodic_loss_g = []\n",
    "    episodic_loss_e = []\n",
    "    for idx, batch in enumerate(data_loader):\n",
    "        \n",
    "        # Training the Discriminator:\n",
    "        discriminator.train()\n",
    "        generator.eval()\n",
    "        encoder.eval()\n",
    "        x, y = batch\n",
    "        zn, zc, zc_idx = generator_input_sampler(latent_space_zn, batch_size=32) # create fake digits\n",
    "        #print(zn.shape, zc.shape, zc_idx.shape)\n",
    "        x_fake = generator(zn,zc) # create fake imgs\n",
    "        \n",
    "        grad_penalty = calc_gradient_penalty(discriminator, x, x_fake)\n",
    "        pred_real = discriminator(x)\n",
    "        pred_fake = discriminator(x_fake.squeeze(1))\n",
    "        loss_d = torch.mean(pred_real) - torch.mean(pred_fake) + grad_penalty\n",
    "        discriminator.zero_grad()\n",
    "        #writer.add_scalar(\"Discriminator loss\",lossd.mean(), step)\n",
    "        loss_d.backward()\n",
    "        optimizer_D.step()\n",
    "        episodic_loss_d.append(loss_d.item())\n",
    "        \n",
    "        # Training the Generator:\n",
    "        discriminator.eval()\n",
    "        generator.train()\n",
    "        encoder.train()\n",
    "        zn, zc, zc_idx = generator_input_sampler(latent_space_zn, batch_size=32) # create fake digits\n",
    "        x_fake = generator(zn,zc) # create fake imgs\n",
    "        pred = discriminator(x_fake.squeeze(1))\n",
    "        \n",
    "        enc_gen_zn, enc_gen_zc, enc_gen_zc_logits = encoder(x_fake)\n",
    "        \n",
    "        if idx == 0:\n",
    "            # Saves the first produced image each episode\n",
    "            random_nr = np.random.random_integers(0,BATCH_SIZE-1)\n",
    "            saved_generator_imgs.append(deprocess(x_fake[random_nr]))\n",
    "            generator_predictions.append(pred[random_nr])\n",
    "        \n",
    "        generator.zero_grad()\n",
    "        # calc losses:\n",
    "        zn_loss = mse_loss(enc_gen_zn, zn)\n",
    "        zc_loss = cross_entropy_loss(enc_gen_zc_logits, zc_idx)\n",
    "        e_loss = zn_loss + zc_loss\n",
    "        # generator loss\n",
    "        g_loss = torch.mean(pred) + 10 * zn_loss + 10 * zc_loss   # value 10 depents on nr of classes\n",
    "        \n",
    "        #writer.add_scalar(\"Generator loss\",lossg.mean(), step)\n",
    "        g_loss.backward()\n",
    "        optimizer_G.step()\n",
    "        episodic_loss_g.append(g_loss.item()) \n",
    "        episodic_loss_e.append(e_loss.item())\n",
    "        step += 1\n",
    "        # Debugging\n",
    "        #if idx == 1:\n",
    "        #    break\n",
    "    overall_loss_g.append(np.array(episodic_loss_g).mean())\n",
    "    overall_loss_d.append(np.array(episodic_loss_d).mean())\n",
    "    print(\"Episode: {} -- Discriminator loss: {} -- Generator loss: {}\".format(epoch, np.array(episodic_loss_d).mean(), np.array(episodic_loss_g).mean()))\n",
    "\n",
    "end_time = time.time()\n",
    "\n",
    "print(\"Training for {} min\".format((end_time-start_time)/60))\n",
    "plt.plot(overall_loss_d)\n",
    "plt.plot(overall_loss_g)\n",
    "plt.ylabel(\"Loss\")\n",
    "plt.xlabel(\"Episode\")\n",
    "plt.show()"
   ]
  },
  {
   "cell_type": "code",
   "execution_count": null,
   "metadata": {},
   "outputs": [],
   "source": []
  },
  {
   "cell_type": "markdown",
   "metadata": {},
   "source": [
    "# Plot Created images by the Generator in each training epoch"
   ]
  },
  {
   "cell_type": "code",
   "execution_count": 68,
   "metadata": {
    "scrolled": true
   },
   "outputs": [
    {
     "name": "stdout",
     "output_type": "stream",
     "text": [
      "0 == Fake and 1 == Real\n",
      "First Episode unsure since untrained on Real Data\n"
     ]
    },
    {
     "ename": "TypeError",
     "evalue": "'AxesSubplot' object is not subscriptable",
     "output_type": "error",
     "traceback": [
      "\u001b[1;31m---------------------------------------------------------------------------\u001b[0m",
      "\u001b[1;31mTypeError\u001b[0m                                 Traceback (most recent call last)",
      "\u001b[1;32m<ipython-input-68-d44727564213>\u001b[0m in \u001b[0;36m<module>\u001b[1;34m\u001b[0m\n\u001b[0;32m      8\u001b[0m \u001b[1;33m\u001b[0m\u001b[0m\n\u001b[0;32m      9\u001b[0m \u001b[1;32mfor\u001b[0m \u001b[0midx\u001b[0m \u001b[1;32min\u001b[0m \u001b[0mrange\u001b[0m\u001b[1;33m(\u001b[0m\u001b[0mlen\u001b[0m\u001b[1;33m(\u001b[0m\u001b[0msaved_generator_imgs\u001b[0m\u001b[1;33m)\u001b[0m\u001b[1;33m)\u001b[0m\u001b[1;33m:\u001b[0m\u001b[1;33m\u001b[0m\u001b[1;33m\u001b[0m\u001b[0m\n\u001b[1;32m---> 10\u001b[1;33m     \u001b[0maxes\u001b[0m\u001b[1;33m[\u001b[0m\u001b[0midx\u001b[0m\u001b[1;33m]\u001b[0m\u001b[1;33m.\u001b[0m\u001b[0maxis\u001b[0m\u001b[1;33m(\u001b[0m\u001b[1;34m'off'\u001b[0m\u001b[1;33m)\u001b[0m\u001b[1;33m\u001b[0m\u001b[1;33m\u001b[0m\u001b[0m\n\u001b[0m\u001b[0;32m     11\u001b[0m     \u001b[0maxes\u001b[0m\u001b[1;33m[\u001b[0m\u001b[0midx\u001b[0m\u001b[1;33m]\u001b[0m\u001b[1;33m.\u001b[0m\u001b[0mimshow\u001b[0m\u001b[1;33m(\u001b[0m\u001b[0msaved_generator_imgs\u001b[0m\u001b[1;33m[\u001b[0m\u001b[0midx\u001b[0m\u001b[1;33m]\u001b[0m\u001b[1;33m,\u001b[0m \u001b[0mcmap\u001b[0m \u001b[1;33m=\u001b[0m \u001b[1;34m\"gray\"\u001b[0m\u001b[1;33m)\u001b[0m\u001b[1;33m\u001b[0m\u001b[1;33m\u001b[0m\u001b[0m\n\u001b[0;32m     12\u001b[0m     \u001b[0maxes\u001b[0m\u001b[1;33m[\u001b[0m\u001b[0midx\u001b[0m\u001b[1;33m]\u001b[0m\u001b[1;33m.\u001b[0m\u001b[0mset_title\u001b[0m\u001b[1;33m(\u001b[0m\u001b[0mgenerator_predictions\u001b[0m\u001b[1;33m[\u001b[0m\u001b[0midx\u001b[0m\u001b[1;33m]\u001b[0m\u001b[1;33m.\u001b[0m\u001b[0mdetach\u001b[0m\u001b[1;33m(\u001b[0m\u001b[1;33m)\u001b[0m\u001b[1;33m.\u001b[0m\u001b[0mnumpy\u001b[0m\u001b[1;33m(\u001b[0m\u001b[1;33m)\u001b[0m\u001b[1;33m)\u001b[0m\u001b[1;33m\u001b[0m\u001b[1;33m\u001b[0m\u001b[0m\n",
      "\u001b[1;31mTypeError\u001b[0m: 'AxesSubplot' object is not subscriptable"
     ]
    },
    {
     "data": {
      "image/png": "[encoded data removed]",
      "text/plain": [
       "<Figure size 432x9360 with 1 Axes>"
      ]
     },
     "metadata": {
      "needs_background": "light"
     },
     "output_type": "display_data"
    }
   ],
   "source": [
    "fig, axes = plt.subplots(len(saved_generator_imgs),1, figsize=(6, 130))\n",
    "fig.subplots_adjust(hspace = .2, wspace=.001)\n",
    "axes = axes.ravel()\n",
    "\n",
    "print(\"0 == Fake and 1 == Real\")\n",
    "print(\"First Episode unsure since untrained on Real Data\")\n",
    "\n",
    "for idx in range(len(saved_generator_imgs)):\n",
    "    axes[idx].axis('off')\n",
    "    axes[idx].imshow(saved_generator_imgs[idx], cmap = \"gray\")\n",
    "    axes[idx].set_title(generator_predictions[idx].detach().numpy())"
   ]
  },
  {
   "cell_type": "markdown",
   "metadata": {},
   "source": [
    "# Plotting Cluster"
   ]
  },
  {
   "cell_type": "code",
   "execution_count": 18,
   "metadata": {},
   "outputs": [],
   "source": [
    "from sklearn.manifold import TSNE\n",
    "import matplotlib\n",
    "import matplotlib.cm as cm\n",
    "tsne = TSNE(n_components=2, verbose=1, init='pca', random_state=42)"
   ]
  },
  {
   "cell_type": "code",
   "execution_count": 20,
   "metadata": {},
   "outputs": [
    {
     "name": "stdout",
     "output_type": "stream",
     "text": [
      "[t-SNE] Computing 31 nearest neighbors...\n",
      "[t-SNE] Indexed 32 samples in 0.000s...\n",
      "[t-SNE] Computed neighbors for 32 samples in 0.014s...\n",
      "[t-SNE] Computed conditional probabilities for sample 32 / 32\n",
      "[t-SNE] Mean sigma: 108098.747153\n",
      "[t-SNE] KL divergence after 250 iterations with early exaggeration: 45.363869\n",
      "[t-SNE] KL divergence after 1000 iterations: 0.952632\n"
     ]
    }
   ],
   "source": [
    "imgs, labels = next(iter(data_loader))\n",
    "enc_zn, enc_zc, enc_zc_logits = encoder(imgs.unsqueeze(1))\n",
    "enc = np.hstack((enc_zn.detach().numpy(), enc_zc_logits.detach().numpy()))\n",
    "tsne_enc = tsne.fit_transform(enc)\n",
    "labels = labels.data.numpy()"
   ]
  },
  {
   "cell_type": "code",
   "execution_count": 22,
   "metadata": {},
   "outputs": [
    {
     "name": "stderr",
     "output_type": "stream",
     "text": [
      "'c' argument looks like a single numeric RGB or RGBA sequence, which should be avoided as value-mapping will have precedence in case its length matches with 'x' & 'y'.  Please use a 2-D array with a single row if you really want to specify the same RGB or RGBA value for all points.\n",
      "'c' argument looks like a single numeric RGB or RGBA sequence, which should be avoided as value-mapping will have precedence in case its length matches with 'x' & 'y'.  Please use a 2-D array with a single row if you really want to specify the same RGB or RGBA value for all points.\n",
      "'c' argument looks like a single numeric RGB or RGBA sequence, which should be avoided as value-mapping will have precedence in case its length matches with 'x' & 'y'.  Please use a 2-D array with a single row if you really want to specify the same RGB or RGBA value for all points.\n",
      "'c' argument looks like a single numeric RGB or RGBA sequence, which should be avoided as value-mapping will have precedence in case its length matches with 'x' & 'y'.  Please use a 2-D array with a single row if you really want to specify the same RGB or RGBA value for all points.\n",
      "'c' argument looks like a single numeric RGB or RGBA sequence, which should be avoided as value-mapping will have precedence in case its length matches with 'x' & 'y'.  Please use a 2-D array with a single row if you really want to specify the same RGB or RGBA value for all points.\n",
      "'c' argument looks like a single numeric RGB or RGBA sequence, which should be avoided as value-mapping will have precedence in case its length matches with 'x' & 'y'.  Please use a 2-D array with a single row if you really want to specify the same RGB or RGBA value for all points.\n",
      "'c' argument looks like a single numeric RGB or RGBA sequence, which should be avoided as value-mapping will have precedence in case its length matches with 'x' & 'y'.  Please use a 2-D array with a single row if you really want to specify the same RGB or RGBA value for all points.\n",
      "'c' argument looks like a single numeric RGB or RGBA sequence, which should be avoided as value-mapping will have precedence in case its length matches with 'x' & 'y'.  Please use a 2-D array with a single row if you really want to specify the same RGB or RGBA value for all points.\n",
      "'c' argument looks like a single numeric RGB or RGBA sequence, which should be avoided as value-mapping will have precedence in case its length matches with 'x' & 'y'.  Please use a 2-D array with a single row if you really want to specify the same RGB or RGBA value for all points.\n"
     ]
    },
    {
     "data": {
      "image/png": "[encoded data removed]",
      "text/plain": [
       "<Figure size 1152x720 with 1 Axes>"
      ]
     },
     "metadata": {
      "needs_background": "light"
     },
     "output_type": "display_data"
    }
   ],
   "source": [
    "colors = cm.rainbow(np.linspace(0, 1, nr_c))\n",
    "markers = matplotlib.markers.MarkerStyle.filled_markers\n",
    "\n",
    "    # Save TSNE figure to file\n",
    "fig, ax = plt.subplots(figsize=(16,10))\n",
    "for iclass in range(0, nr_c):\n",
    "        # Get indices for each class\n",
    "    idxs = labels==iclass\n",
    "        # Scatter those points in tsne dims\n",
    "    ax.scatter(tsne_enc[idxs, 0],\n",
    "                tsne_enc[idxs, 1],\n",
    "                marker=markers[iclass],\n",
    "                c=colors[iclass],\n",
    "                edgecolor=None,\n",
    "                label=r'$%i$'%iclass)\n",
    "\n",
    "    #ax.set_title(r'%s'%fig_title, fontsize=24)\n",
    "    ax.set_xlabel(r'$X^{\\mathrm{tSNE}}_1$', fontsize=18)\n",
    "    ax.set_ylabel(r'$X^{\\mathrm{tSNE}}_2$', fontsize=18)\n",
    "    plt.legend(title=r'Class', loc='best', numpoints=1, fontsize=16)\n",
    "    plt.tight_layout()\n",
    "    fig.savefig('tsne-pca.png')"
   ]
  },
  {
   "cell_type": "code",
   "execution_count": null,
   "metadata": {},
   "outputs": [],
   "source": []
  }
 ],
 "metadata": {
  "kernelspec": {
   "display_name": "Python 3",
   "language": "python",
   "name": "python3"
  },
  "language_info": {
   "codemirror_mode": {
    "name": "ipython",
    "version": 3
   },
   "file_extension": ".py",
   "mimetype": "text/x-python",
   "name": "python",
   "nbconvert_exporter": "python",
   "pygments_lexer": "ipython3",
   "version": "3.7.3"
  }
 },
 "nbformat": 4,
 "nbformat_minor": 2
}
